{
 "cells": [
  {
   "cell_type": "markdown",
   "metadata": {},
   "source": [
    "# What is the True Normal Human Body Temperature? \n",
    "\n",
    "#### Background\n",
    "\n",
    "The mean normal body temperature was held to be 37$^{\\circ}$C or 98.6$^{\\circ}$F for more than 120 years since it was first conceptualized and reported by Carl Wunderlich in a famous 1868 book. But, is this value statistically correct?"
   ]
  },
  {
   "cell_type": "markdown",
   "metadata": {},
   "source": [
    "<h3>Exercises</h3>\n",
    "\n",
    "<p>In this exercise, you will analyze a dataset of human body temperatures and employ the concepts of hypothesis testing, confidence intervals, and statistical significance.</p>\n",
    "\n",
    "<p>Answer the following questions <b>in this notebook below and submit to your Github account</b>.</p> \n",
    "\n",
    "<ol>\n",
    "<li>  Is the distribution of body temperatures normal? \n",
    "    <ul>\n",
    "    <li> Although this is not a requirement for CLT to hold (read CLT carefully), it gives us some peace of mind that the population may also be normally distributed if we assume that this sample is representative of the population.\n",
    "    </ul>\n",
    "<li>  Is the sample size large? Are the observations independent?\n",
    "    <ul>\n",
    "    <li> Remember that this is a condition for the CLT, and hence the statistical tests we are using, to apply.\n",
    "    </ul>\n",
    "<li>  Is the true population mean really 98.6 degrees F?\n",
    "    <ul>\n",
    "    <li> Would you use a one-sample or two-sample test? Why?\n",
    "    <li> In this situation, is it appropriate to use the $t$ or $z$ statistic? \n",
    "    <li> Now try using the other test. How is the result be different? Why?\n",
    "    </ul>\n",
    "<li>  Draw a small sample of size 10 from the data and repeat both tests. \n",
    "    <ul>\n",
    "    <li> Which one is the correct one to use? \n",
    "    <li> What do you notice? What does this tell you about the difference in application of the $t$ and $z$ statistic?\n",
    "    </ul>\n",
    "<li>  At what temperature should we consider someone's temperature to be \"abnormal\"?\n",
    "    <ul>\n",
    "    <li> Start by computing the margin of error and confidence interval.\n",
    "    </ul>\n",
    "<li>  Is there a significant difference between males and females in normal temperature?\n",
    "    <ul>\n",
    "    <li> What test did you use and why?\n",
    "    <li> Write a story with your conclusion in the context of the original problem.\n",
    "    </ul>\n",
    "</ol>\n",
    "\n",
    "You can include written notes in notebook cells using Markdown: \n",
    "   - In the control panel at the top, choose Cell > Cell Type > Markdown\n",
    "   - Markdown syntax: http://nestacms.com/docs/creating-content/markdown-cheat-sheet\n",
    "\n",
    "#### Resources\n",
    "\n",
    "+ Information and data sources: http://www.amstat.org/publications/jse/datasets/normtemp.txt, http://www.amstat.org/publications/jse/jse_data_archive.htm\n",
    "+ Markdown syntax: http://nestacms.com/docs/creating-content/markdown-cheat-sheet\n",
    "\n",
    "****"
   ]
  },
  {
   "cell_type": "code",
   "execution_count": 1,
   "metadata": {
    "collapsed": true
   },
   "outputs": [],
   "source": [
    "import pandas as pd\n",
    "import numpy as np\n",
    "df = pd.read_csv('data/human_body_temperature.csv')"
   ]
  },
  {
   "cell_type": "code",
   "execution_count": 2,
   "metadata": {},
   "outputs": [
    {
     "data": {
      "text/plain": [
       "Index(['temperature', 'gender', 'heart_rate'], dtype='object')"
      ]
     },
     "execution_count": 2,
     "metadata": {},
     "output_type": "execute_result"
    }
   ],
   "source": [
    "df.columns"
   ]
  },
  {
   "cell_type": "code",
   "execution_count": 3,
   "metadata": {},
   "outputs": [
    {
     "data": {
      "text/html": [
       "<div>\n",
       "<style>\n",
       "    .dataframe thead tr:only-child th {\n",
       "        text-align: right;\n",
       "    }\n",
       "\n",
       "    .dataframe thead th {\n",
       "        text-align: left;\n",
       "    }\n",
       "\n",
       "    .dataframe tbody tr th {\n",
       "        vertical-align: top;\n",
       "    }\n",
       "</style>\n",
       "<table border=\"1\" class=\"dataframe\">\n",
       "  <thead>\n",
       "    <tr style=\"text-align: right;\">\n",
       "      <th></th>\n",
       "      <th>temperature</th>\n",
       "      <th>gender</th>\n",
       "      <th>heart_rate</th>\n",
       "    </tr>\n",
       "  </thead>\n",
       "  <tbody>\n",
       "    <tr>\n",
       "      <th>0</th>\n",
       "      <td>99.3</td>\n",
       "      <td>F</td>\n",
       "      <td>68.0</td>\n",
       "    </tr>\n",
       "    <tr>\n",
       "      <th>1</th>\n",
       "      <td>98.4</td>\n",
       "      <td>F</td>\n",
       "      <td>81.0</td>\n",
       "    </tr>\n",
       "    <tr>\n",
       "      <th>2</th>\n",
       "      <td>97.8</td>\n",
       "      <td>M</td>\n",
       "      <td>73.0</td>\n",
       "    </tr>\n",
       "    <tr>\n",
       "      <th>3</th>\n",
       "      <td>99.2</td>\n",
       "      <td>F</td>\n",
       "      <td>66.0</td>\n",
       "    </tr>\n",
       "    <tr>\n",
       "      <th>4</th>\n",
       "      <td>98.0</td>\n",
       "      <td>F</td>\n",
       "      <td>73.0</td>\n",
       "    </tr>\n",
       "  </tbody>\n",
       "</table>\n",
       "</div>"
      ],
      "text/plain": [
       "   temperature gender  heart_rate\n",
       "0         99.3      F        68.0\n",
       "1         98.4      F        81.0\n",
       "2         97.8      M        73.0\n",
       "3         99.2      F        66.0\n",
       "4         98.0      F        73.0"
      ]
     },
     "execution_count": 3,
     "metadata": {},
     "output_type": "execute_result"
    }
   ],
   "source": [
    "df.head()"
   ]
  },
  {
   "cell_type": "markdown",
   "metadata": {},
   "source": [
    "### 1. Is the distribution of body temperatures normal?"
   ]
  },
  {
   "cell_type": "markdown",
   "metadata": {},
   "source": [
    "Comparing the empirical CDF with the theoretical CDF using mean, variance of the given dataset:"
   ]
  },
  {
   "cell_type": "code",
   "execution_count": 4,
   "metadata": {
    "collapsed": true
   },
   "outputs": [],
   "source": [
    "import matplotlib.pyplot as plt"
   ]
  },
  {
   "cell_type": "code",
   "execution_count": 5,
   "metadata": {
    "collapsed": true
   },
   "outputs": [],
   "source": [
    "def ecdf(dataset):\n",
    "    # compute ecdf for a single array\n",
    "    # x for ecdf (x = quantity being measured)\n",
    "    x = np.sort(dataset)\n",
    "    \n",
    "    # y for ecdf (y = fraction of values that have a value smaller than the x value)\n",
    "    y = np.arange(1, len(x)+1) / len(x)\n",
    "    \n",
    "    return x, y\n",
    "    \n",
    "dataset_x, dataset_y = ecdf(df['temperature'])\n",
    "\n",
    "mean = np.mean(df['temperature'])\n",
    "std = np.std(df['temperature'])\n",
    "size = len(df['temperature'])\n"
   ]
  },
  {
   "cell_type": "code",
   "execution_count": 6,
   "metadata": {
    "collapsed": true
   },
   "outputs": [],
   "source": [
    "# generate normal distribution with mean, std, size of the sample dataset\n",
    "normal_x, normal_y = ecdf(np.random.normal(mean, std, size))"
   ]
  },
  {
   "cell_type": "code",
   "execution_count": 7,
   "metadata": {},
   "outputs": [
    {
     "data": {
      "image/png": "[encoded data removed]",
      "text/plain": [
       "<matplotlib.figure.Figure at 0x1196a4c88>"
      ]
     },
     "metadata": {},
     "output_type": "display_data"
    }
   ],
   "source": [
    "# plots lines connecting data points if marker and linestyle aren't used\n",
    "plt.plot(dataset_x, dataset_y, marker = '.', linestyle = 'none', color = 'red') \n",
    "plt.plot(normal_x, normal_y, marker = '.', linestyle = 'none', color = 'blue') \n",
    "\n",
    "plt.xlabel('temperature')\n",
    "plt.ylabel('ECDF')\n",
    "plt.legend(('dataset', 'theoretical'), loc = 'upper left')\n",
    "    \n",
    "plt.margins(0.02) # keeps data off plot edges\n",
    "plt.show()"
   ]
  },
  {
   "cell_type": "markdown",
   "metadata": {},
   "source": [
    "The red plot reflects the CDF of the body temperatures from the given dataset, and the blue plot reflects a normal distribution with the same mean and standard deviation as the dataset. Since the red plot approximately follows a normal distribution, it can be concluded that the given body temperature dataset is normal. "
   ]
  },
  {
   "cell_type": "markdown",
   "metadata": {},
   "source": [
    "### 2. Is the sample size large? Are the observations independent?"
   ]
  },
  {
   "cell_type": "code",
   "execution_count": 8,
   "metadata": {},
   "outputs": [
    {
     "name": "stdout",
     "output_type": "stream",
     "text": [
      "Sample size:  130\n"
     ]
    }
   ],
   "source": [
    "print('Sample size: ', len(df['temperature']))"
   ]
  },
  {
   "cell_type": "code",
   "execution_count": 9,
   "metadata": {},
   "outputs": [
    {
     "name": "stdout",
     "output_type": "stream",
     "text": [
      "Necessary Sample Size = ((Z-score)^2 * StdDev *(1-StdDev)) / (margin of error)^2 =  302.618649707999\n"
     ]
    }
   ],
   "source": [
    "# 95% confidence level\n",
    "print(\"Necessary Sample Size = ((Z-score)^2 * StdDev *(1-StdDev)) / (margin of error)^2 = \", \n",
    "      (float((1.96)**2 * std * (1-std)) / (.05)**2))"
   ]
  },
  {
   "cell_type": "markdown",
   "metadata": {},
   "source": [
    "The sample size is small with just 130 samples and around 303 samples would be considered large enough. The observations are independent since the body temperature of one person does not affect/influence the body temperature of another. "
   ]
  },
  {
   "cell_type": "markdown",
   "metadata": {},
   "source": [
    "### 3. Is the true population mean really 98.6 degrees F?"
   ]
  },
  {
   "cell_type": "markdown",
   "metadata": {},
   "source": [
    "In this case, 98.6 is the population (theoretical) mean. With the sample that is available to test the hypothesis, a one sample t-test can be used. We use a t-test instead of a z-test because we do not know the population standard deviation. "
   ]
  },
  {
   "cell_type": "markdown",
   "metadata": {},
   "source": [
    "H0: There is no significant difference between the population mean and the sample mean\n",
    "\n",
    "H1: There is a significant difference between the population and sample means"
   ]
  },
  {
   "cell_type": "code",
   "execution_count": 10,
   "metadata": {
    "collapsed": true
   },
   "outputs": [],
   "source": [
    "pop_mean = 98.6\n",
    "sample_mean = np.mean(df['temperature'])\n",
    "\n",
    "# bootstrap resampling\n",
    "trials = 1000\n",
    "test_mean_lst = np.empty(trials)\n",
    "\n",
    "for i in range(trials):\n",
    "    test_mean_lst[i] = np.mean(np.random.choice(df['temperature'], len(df['temperature'])))\n"
   ]
  },
  {
   "cell_type": "code",
   "execution_count": 11,
   "metadata": {},
   "outputs": [
    {
     "data": {
      "text/plain": [
       "Ttest_1sampResult(statistic=-180.86859947163927, pvalue=0.0)"
      ]
     },
     "execution_count": 11,
     "metadata": {},
     "output_type": "execute_result"
    }
   ],
   "source": [
    "from scipy import stats\n",
    "stats.ttest_1samp(test_mean_lst, pop_mean)"
   ]
  },
  {
   "cell_type": "code",
   "execution_count": 12,
   "metadata": {},
   "outputs": [
    {
     "name": "stdout",
     "output_type": "stream",
     "text": [
      "5.72242924564\n"
     ]
    }
   ],
   "source": [
    "# compute z-score for the difference\n",
    "def z_score(data_lst, sample):\n",
    "    return (sample - np.mean(data_lst))/float(np.std(data_lst))\n",
    "\n",
    "print(z_score(test_mean_lst, pop_mean))"
   ]
  },
  {
   "cell_type": "markdown",
   "metadata": {},
   "source": [
    "Since the t-statistic is large (>0.05), there is strong evidence to reject the null hypothesis and this is evident from the z-score results as well. Hence it can be concluded that the dataset does not represent the population mean well."
   ]
  },
  {
   "cell_type": "markdown",
   "metadata": {},
   "source": [
    "### 4. Draw a small sample of size 10 from the data and repeat both tests."
   ]
  },
  {
   "cell_type": "code",
   "execution_count": 13,
   "metadata": {},
   "outputs": [
    {
     "data": {
      "text/plain": [
       "array([ 98.28615385,  98.26153846,  98.19153846,  98.4       ,\n",
       "        98.20538462,  98.26692308,  98.24384615,  98.28615385,\n",
       "        98.32307692,  98.34461538])"
      ]
     },
     "execution_count": 13,
     "metadata": {},
     "output_type": "execute_result"
    }
   ],
   "source": [
    "trial2 = 10\n",
    "test_mean_lst2 = np.empty(trial2)\n",
    "\n",
    "for i in range(trial2):\n",
    "    test_mean_lst2[i] = np.mean(np.random.choice(df['temperature'], len(df['temperature'])))\n",
    "test_mean_lst2"
   ]
  },
  {
   "cell_type": "code",
   "execution_count": 14,
   "metadata": {},
   "outputs": [
    {
     "name": "stdout",
     "output_type": "stream",
     "text": [
      "5.33951178948 Ttest_1sampResult(statistic=-180.86859947163927, pvalue=0.0)\n"
     ]
    }
   ],
   "source": [
    "print(z_score(test_mean_lst2, pop_mean), stats.ttest_1samp(test_mean_lst, pop_mean))"
   ]
  },
  {
   "cell_type": "markdown",
   "metadata": {
    "collapsed": true
   },
   "source": [
    "With the z score continuing to be high, it shows evidence against the null hypothesis. The end decision with using the t-table vs. the z-table are the same, though the values differ slightly."
   ]
  },
  {
   "cell_type": "markdown",
   "metadata": {},
   "source": [
    "### 5. At what temperature should we consider someone's temperature to be \"abnormal\"?"
   ]
  },
  {
   "cell_type": "code",
   "execution_count": 15,
   "metadata": {},
   "outputs": [],
   "source": [
    "# bootstrap from dataset, get confidence interval of 95%\n",
    "# get means from the bootstrapped samples\n",
    "\n",
    "trials3 = 1000\n",
    "test_mean_lst3 = np.empty(trials3)\n",
    "\n",
    "for i in range(trials3):\n",
    "    test_mean_lst3[i] = np.mean(np.random.choice(df['temperature'], len(df['temperature'])))"
   ]
  },
  {
   "cell_type": "code",
   "execution_count": 16,
   "metadata": {
    "collapsed": true
   },
   "outputs": [],
   "source": [
    "def summarize_dist(sample_stats):\n",
    "    print('Sample std dev: ', sample_stats.std())\n",
    "    print('95% confidence interval: ', np.percentile(sample_stats, [2.5, 97.5]))\n",
    "    print('Sample mean: ', sample_stats.mean())"
   ]
  },
  {
   "cell_type": "code",
   "execution_count": 17,
   "metadata": {},
   "outputs": [
    {
     "name": "stdout",
     "output_type": "stream",
     "text": [
      "Sample std dev:  0.067117474757\n",
      "95% confidence interval:  [ 98.10834615  98.37538462]\n",
      "Sample mean:  98.2486061538\n"
     ]
    }
   ],
   "source": [
    "summarize_dist(test_mean_lst3)"
   ]
  },
  {
   "cell_type": "code",
   "execution_count": 18,
   "metadata": {},
   "outputs": [
    {
     "name": "stdout",
     "output_type": "stream",
     "text": [
      "margin of error:  0.00409072238119\n"
     ]
    }
   ],
   "source": [
    "# margin of error = z * std error of sample\n",
    "# margin of error at 95% = 1.645* sd/sqrt(n)\n",
    "\n",
    "print('margin of error: ', 1.96 * 0.066/np.sqrt(1000))"
   ]
  },
  {
   "cell_type": "markdown",
   "metadata": {},
   "source": [
    "With sample mean of 98.24, a confidence interval of 95% returns a margin of error of 0.004, meaning it can be said with 95% certainty that the actual population mean is between +/- 0.004 of the sample mean 98.24\n",
    "\n",
    "With a confidence interval of 98.11536538 and 98.36851923, it can be stated that body temperature above 98.37 and below 98.12 is considered abnormal."
   ]
  },
  {
   "cell_type": "markdown",
   "metadata": {},
   "source": [
    "### 6. Is there a significant difference between males and females in normal temperature?"
   ]
  },
  {
   "cell_type": "markdown",
   "metadata": {
    "collapsed": true
   },
   "source": [
    "Steps:\n",
    "\n",
    "    1) bootstrap to resample male/female body temperatures\n",
    "    \n",
    "    2) H0: there is no significant difference in mean body temperatures of men and women\n",
    "    \n",
    "    H1: there is a significant difference in mean body temperatures of men and women"
   ]
  },
  {
   "cell_type": "code",
   "execution_count": 19,
   "metadata": {
    "collapsed": true
   },
   "outputs": [],
   "source": [
    "men_temp = df[df['gender']=='M']['temperature']\n",
    "women_temp = df[df['gender']=='F']['temperature']"
   ]
  },
  {
   "cell_type": "code",
   "execution_count": 20,
   "metadata": {},
   "outputs": [
    {
     "data": {
      "text/plain": [
       "98.599999999999994"
      ]
     },
     "execution_count": 20,
     "metadata": {},
     "output_type": "execute_result"
    }
   ],
   "source": [
    "np.random.choice(men_temp)"
   ]
  },
  {
   "cell_type": "code",
   "execution_count": 21,
   "metadata": {
    "collapsed": true
   },
   "outputs": [],
   "source": [
    "trials = 1000\n",
    "men_temp_means, women_temp_means = np.empty(trials), np.empty(trials)\n",
    "\n",
    "for i in range(trials):\n",
    "    men_temp_means[i] = np.mean(np.random.choice(men_temp, len(men_temp)))\n",
    "    women_temp_means[i] = np.mean(np.random.choice(women_temp,len(women_temp)))"
   ]
  },
  {
   "cell_type": "code",
   "execution_count": 22,
   "metadata": {},
   "outputs": [
    {
     "name": "stdout",
     "output_type": "stream",
     "text": [
      "[-0.50007692 -0.08576923]\n"
     ]
    }
   ],
   "source": [
    "#subtract the two means and see if 0 is included in the confidence interval\n",
    "total_mean = men_temp_means - women_temp_means\n",
    "print(np.percentile(total_mean, [5, 95]))"
   ]
  },
  {
   "cell_type": "markdown",
   "metadata": {},
   "source": [
    "Since 0 is not part of the confidence interval, we can reject the null hypothesis at the 95% confidence interval"
   ]
  }
 ],
 "metadata": {
  "kernelspec": {
   "display_name": "Python 3",
   "language": "python",
   "name": "python3"
  },
  "language_info": {
   "codemirror_mode": {
    "name": "ipython",
    "version": 3
   },
   "file_extension": ".py",
   "mimetype": "text/x-python",
   "name": "python",
   "nbconvert_exporter": "python",
   "pygments_lexer": "ipython3",
   "version": "3.6.2"
  }
 },
 "nbformat": 4,
 "nbformat_minor": 1
}
