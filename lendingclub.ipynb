{
 "cells": [
  {
   "cell_type": "markdown",
   "metadata": {},
   "source": [
    "# Lending Club Dataset Cleanup & EDA"
   ]
  },
  {
   "cell_type": "markdown",
   "metadata": {},
   "source": [
    "The aim of this notebook is to cleanup and get the Lending Club loan dataset ready for predicitve analysis"
   ]
  },
  {
   "cell_type": "markdown",
   "metadata": {},
   "source": [
    "### I) Setting Up"
   ]
  },
  {
   "cell_type": "code",
   "execution_count": 1,
   "metadata": {},
   "outputs": [
    {
     "name": "stderr",
     "output_type": "stream",
     "text": [
      "/Users/navina/anaconda/lib/python3.6/site-packages/sklearn/cross_validation.py:44: DeprecationWarning: This module was deprecated in version 0.18 in favor of the model_selection module into which all the refactored classes and functions are moved. Also note that the interface of the new CV iterators are different from that of this module. This module will be removed in 0.20.\n",
      "  \"This module will be removed in 0.20.\", DeprecationWarning)\n"
     ]
    },
    {
     "name": "stdout",
     "output_type": "stream",
     "text": [
      "Populating the interactive namespace from numpy and matplotlib\n"
     ]
    }
   ],
   "source": [
    "from IPython.display import display\n",
    "import warnings\n",
    "warnings.filterwarnings('ignore')\n",
    "import pandas as pd\n",
    "import numpy as np\n",
    "from sklearn.cross_validation import train_test_split\n",
    "from sklearn import metrics\n",
    "from sklearn.cross_validation import cross_val_score\n",
    "import matplotlib.pyplot as plt\n",
    "import seaborn as sns\n",
    "# from regression_helper import currency_str_to_int, read_imdb_sql_table\n",
    "sns.set_style(\"whitegrid\")\n",
    "%pylab inline"
   ]
  },
  {
   "cell_type": "code",
   "execution_count": 2,
   "metadata": {},
   "outputs": [],
   "source": [
    "# Read csv file as a pandas df\n",
    "loan_df = pd.read_csv('loan.csv')\n",
    "#imdb_df.to_csv('.csv', sep='\\t', encoding='utf-8')"
   ]
  },
  {
   "cell_type": "markdown",
   "metadata": {},
   "source": [
    "### II)  EDA and missing record investigation"
   ]
  },
  {
   "cell_type": "code",
   "execution_count": 3,
   "metadata": {
    "scrolled": true
   },
   "outputs": [
    {
     "data": {
      "text/html": [
       "<div>\n",
       "<style>\n",
       "    .dataframe thead tr:only-child th {\n",
       "        text-align: right;\n",
       "    }\n",
       "\n",
       "    .dataframe thead th {\n",
       "        text-align: left;\n",
       "    }\n",
       "\n",
       "    .dataframe tbody tr th {\n",
       "        vertical-align: top;\n",
       "    }\n",
       "</style>\n",
       "<table border=\"1\" class=\"dataframe\">\n",
       "  <thead>\n",
       "    <tr style=\"text-align: right;\">\n",
       "      <th></th>\n",
       "      <th>id</th>\n",
       "      <th>member_id</th>\n",
       "      <th>loan_amnt</th>\n",
       "      <th>funded_amnt</th>\n",
       "      <th>funded_amnt_inv</th>\n",
       "      <th>term</th>\n",
       "      <th>int_rate</th>\n",
       "      <th>installment</th>\n",
       "      <th>grade</th>\n",
       "      <th>sub_grade</th>\n",
       "      <th>...</th>\n",
       "      <th>total_bal_il</th>\n",
       "      <th>il_util</th>\n",
       "      <th>open_rv_12m</th>\n",
       "      <th>open_rv_24m</th>\n",
       "      <th>max_bal_bc</th>\n",
       "      <th>all_util</th>\n",
       "      <th>total_rev_hi_lim</th>\n",
       "      <th>inq_fi</th>\n",
       "      <th>total_cu_tl</th>\n",
       "      <th>inq_last_12m</th>\n",
       "    </tr>\n",
       "  </thead>\n",
       "  <tbody>\n",
       "    <tr>\n",
       "      <th>0</th>\n",
       "      <td>1077501</td>\n",
       "      <td>1296599</td>\n",
       "      <td>5000.0</td>\n",
       "      <td>5000.0</td>\n",
       "      <td>4975.0</td>\n",
       "      <td>36 months</td>\n",
       "      <td>10.65</td>\n",
       "      <td>162.87</td>\n",
       "      <td>B</td>\n",
       "      <td>B2</td>\n",
       "      <td>...</td>\n",
       "      <td>NaN</td>\n",
       "      <td>NaN</td>\n",
       "      <td>NaN</td>\n",
       "      <td>NaN</td>\n",
       "      <td>NaN</td>\n",
       "      <td>NaN</td>\n",
       "      <td>NaN</td>\n",
       "      <td>NaN</td>\n",
       "      <td>NaN</td>\n",
       "      <td>NaN</td>\n",
       "    </tr>\n",
       "    <tr>\n",
       "      <th>1</th>\n",
       "      <td>1077430</td>\n",
       "      <td>1314167</td>\n",
       "      <td>2500.0</td>\n",
       "      <td>2500.0</td>\n",
       "      <td>2500.0</td>\n",
       "      <td>60 months</td>\n",
       "      <td>15.27</td>\n",
       "      <td>59.83</td>\n",
       "      <td>C</td>\n",
       "      <td>C4</td>\n",
       "      <td>...</td>\n",
       "      <td>NaN</td>\n",
       "      <td>NaN</td>\n",
       "      <td>NaN</td>\n",
       "      <td>NaN</td>\n",
       "      <td>NaN</td>\n",
       "      <td>NaN</td>\n",
       "      <td>NaN</td>\n",
       "      <td>NaN</td>\n",
       "      <td>NaN</td>\n",
       "      <td>NaN</td>\n",
       "    </tr>\n",
       "    <tr>\n",
       "      <th>2</th>\n",
       "      <td>1077175</td>\n",
       "      <td>1313524</td>\n",
       "      <td>2400.0</td>\n",
       "      <td>2400.0</td>\n",
       "      <td>2400.0</td>\n",
       "      <td>36 months</td>\n",
       "      <td>15.96</td>\n",
       "      <td>84.33</td>\n",
       "      <td>C</td>\n",
       "      <td>C5</td>\n",
       "      <td>...</td>\n",
       "      <td>NaN</td>\n",
       "      <td>NaN</td>\n",
       "      <td>NaN</td>\n",
       "      <td>NaN</td>\n",
       "      <td>NaN</td>\n",
       "      <td>NaN</td>\n",
       "      <td>NaN</td>\n",
       "      <td>NaN</td>\n",
       "      <td>NaN</td>\n",
       "      <td>NaN</td>\n",
       "    </tr>\n",
       "    <tr>\n",
       "      <th>3</th>\n",
       "      <td>1076863</td>\n",
       "      <td>1277178</td>\n",
       "      <td>10000.0</td>\n",
       "      <td>10000.0</td>\n",
       "      <td>10000.0</td>\n",
       "      <td>36 months</td>\n",
       "      <td>13.49</td>\n",
       "      <td>339.31</td>\n",
       "      <td>C</td>\n",
       "      <td>C1</td>\n",
       "      <td>...</td>\n",
       "      <td>NaN</td>\n",
       "      <td>NaN</td>\n",
       "      <td>NaN</td>\n",
       "      <td>NaN</td>\n",
       "      <td>NaN</td>\n",
       "      <td>NaN</td>\n",
       "      <td>NaN</td>\n",
       "      <td>NaN</td>\n",
       "      <td>NaN</td>\n",
       "      <td>NaN</td>\n",
       "    </tr>\n",
       "    <tr>\n",
       "      <th>4</th>\n",
       "      <td>1075358</td>\n",
       "      <td>1311748</td>\n",
       "      <td>3000.0</td>\n",
       "      <td>3000.0</td>\n",
       "      <td>3000.0</td>\n",
       "      <td>60 months</td>\n",
       "      <td>12.69</td>\n",
       "      <td>67.79</td>\n",
       "      <td>B</td>\n",
       "      <td>B5</td>\n",
       "      <td>...</td>\n",
       "      <td>NaN</td>\n",
       "      <td>NaN</td>\n",
       "      <td>NaN</td>\n",
       "      <td>NaN</td>\n",
       "      <td>NaN</td>\n",
       "      <td>NaN</td>\n",
       "      <td>NaN</td>\n",
       "      <td>NaN</td>\n",
       "      <td>NaN</td>\n",
       "      <td>NaN</td>\n",
       "    </tr>\n",
       "  </tbody>\n",
       "</table>\n",
       "<p>5 rows × 74 columns</p>\n",
       "</div>"
      ],
      "text/plain": [
       "        id  member_id  loan_amnt  funded_amnt  funded_amnt_inv        term  \\\n",
       "0  1077501    1296599     5000.0       5000.0           4975.0   36 months   \n",
       "1  1077430    1314167     2500.0       2500.0           2500.0   60 months   \n",
       "2  1077175    1313524     2400.0       2400.0           2400.0   36 months   \n",
       "3  1076863    1277178    10000.0      10000.0          10000.0   36 months   \n",
       "4  1075358    1311748     3000.0       3000.0           3000.0   60 months   \n",
       "\n",
       "   int_rate  installment grade sub_grade     ...      total_bal_il il_util  \\\n",
       "0     10.65       162.87     B        B2     ...               NaN     NaN   \n",
       "1     15.27        59.83     C        C4     ...               NaN     NaN   \n",
       "2     15.96        84.33     C        C5     ...               NaN     NaN   \n",
       "3     13.49       339.31     C        C1     ...               NaN     NaN   \n",
       "4     12.69        67.79     B        B5     ...               NaN     NaN   \n",
       "\n",
       "  open_rv_12m  open_rv_24m max_bal_bc all_util total_rev_hi_lim inq_fi  \\\n",
       "0         NaN          NaN        NaN      NaN              NaN    NaN   \n",
       "1         NaN          NaN        NaN      NaN              NaN    NaN   \n",
       "2         NaN          NaN        NaN      NaN              NaN    NaN   \n",
       "3         NaN          NaN        NaN      NaN              NaN    NaN   \n",
       "4         NaN          NaN        NaN      NaN              NaN    NaN   \n",
       "\n",
       "  total_cu_tl inq_last_12m  \n",
       "0         NaN          NaN  \n",
       "1         NaN          NaN  \n",
       "2         NaN          NaN  \n",
       "3         NaN          NaN  \n",
       "4         NaN          NaN  \n",
       "\n",
       "[5 rows x 74 columns]"
      ]
     },
     "execution_count": 3,
     "metadata": {},
     "output_type": "execute_result"
    }
   ],
   "source": [
    "loan_df.head()"
   ]
  },
  {
   "cell_type": "code",
   "execution_count": 4,
   "metadata": {},
   "outputs": [
    {
     "data": {
      "text/plain": [
       "(887379, 74)"
      ]
     },
     "execution_count": 4,
     "metadata": {},
     "output_type": "execute_result"
    }
   ],
   "source": [
    "loan_df.shape"
   ]
  },
  {
   "cell_type": "code",
   "execution_count": 5,
   "metadata": {
    "collapsed": true
   },
   "outputs": [],
   "source": [
    "loan_df = loan_df.replace(['n/a', 'N/A', 'NA', 'na'], np.nan)"
   ]
  },
  {
   "cell_type": "code",
   "execution_count": 6,
   "metadata": {},
   "outputs": [
    {
     "name": "stdout",
     "output_type": "stream",
     "text": [
      "Number of Duplicate entries = 0, Missing entries = 17998494\n",
      "id                                  0\n",
      "member_id                           0\n",
      "loan_amnt                           0\n",
      "funded_amnt                         0\n",
      "funded_amnt_inv                     0\n",
      "term                                0\n",
      "int_rate                            0\n",
      "installment                         0\n",
      "grade                               0\n",
      "sub_grade                           0\n",
      "emp_title                       51466\n",
      "emp_length                      44825\n",
      "home_ownership                      0\n",
      "annual_inc                          4\n",
      "verification_status                 0\n",
      "issue_d                             0\n",
      "loan_status                         0\n",
      "pymnt_plan                          0\n",
      "url                                 0\n",
      "desc                           761351\n",
      "purpose                             0\n",
      "title                             152\n",
      "zip_code                            0\n",
      "addr_state                          0\n",
      "dti                                 0\n",
      "delinq_2yrs                        29\n",
      "earliest_cr_line                   29\n",
      "inq_last_6mths                     29\n",
      "mths_since_last_delinq         454312\n",
      "mths_since_last_record         750326\n",
      "                                ...  \n",
      "collection_recovery_fee             0\n",
      "last_pymnt_d                    17659\n",
      "last_pymnt_amnt                     0\n",
      "next_pymnt_d                   252971\n",
      "last_credit_pull_d                 53\n",
      "collections_12_mths_ex_med        145\n",
      "mths_since_last_major_derog    665676\n",
      "policy_code                         0\n",
      "application_type                    0\n",
      "annual_inc_joint               886868\n",
      "dti_joint                      886870\n",
      "verification_status_joint      886868\n",
      "acc_now_delinq                     29\n",
      "tot_coll_amt                    70276\n",
      "tot_cur_bal                     70276\n",
      "open_acc_6m                    866007\n",
      "open_il_6m                     866007\n",
      "open_il_12m                    866007\n",
      "open_il_24m                    866007\n",
      "mths_since_rcnt_il             866569\n",
      "total_bal_il                   866007\n",
      "il_util                        868762\n",
      "open_rv_12m                    866007\n",
      "open_rv_24m                    866007\n",
      "max_bal_bc                     866007\n",
      "all_util                       866007\n",
      "total_rev_hi_lim                70276\n",
      "inq_fi                         866007\n",
      "total_cu_tl                    866007\n",
      "inq_last_12m                   866007\n",
      "Length: 74, dtype: int64\n"
     ]
    }
   ],
   "source": [
    "# Checking for duplicate entries and missing values\n",
    "dup_cnt, null_cnt = loan_df.duplicated().sum(), loan_df.isnull().sum().sum()\n",
    "print(\"Number of Duplicate entries = %d, Missing entries = %d\" % (dup_cnt, null_cnt))\n",
    "if(loan_df.isnull().sum().sum()): print(loan_df.isnull().sum())"
   ]
  },
  {
   "cell_type": "code",
   "execution_count": 7,
   "metadata": {},
   "outputs": [
    {
     "name": "stdout",
     "output_type": "stream",
     "text": [
      "<class 'pandas.core.frame.DataFrame'>\n",
      "RangeIndex: 887379 entries, 0 to 887378\n",
      "Data columns (total 74 columns):\n",
      "id                             887379 non-null int64\n",
      "member_id                      887379 non-null int64\n",
      "loan_amnt                      887379 non-null float64\n",
      "funded_amnt                    887379 non-null float64\n",
      "funded_amnt_inv                887379 non-null float64\n",
      "term                           887379 non-null object\n",
      "int_rate                       887379 non-null float64\n",
      "installment                    887379 non-null float64\n",
      "grade                          887379 non-null object\n",
      "sub_grade                      887379 non-null object\n",
      "emp_title                      835913 non-null object\n",
      "emp_length                     842554 non-null object\n",
      "home_ownership                 887379 non-null object\n",
      "annual_inc                     887375 non-null float64\n",
      "verification_status            887379 non-null object\n",
      "issue_d                        887379 non-null object\n",
      "loan_status                    887379 non-null object\n",
      "pymnt_plan                     887379 non-null object\n",
      "url                            887379 non-null object\n",
      "desc                           126028 non-null object\n",
      "purpose                        887379 non-null object\n",
      "title                          887227 non-null object\n",
      "zip_code                       887379 non-null object\n",
      "addr_state                     887379 non-null object\n",
      "dti                            887379 non-null float64\n",
      "delinq_2yrs                    887350 non-null float64\n",
      "earliest_cr_line               887350 non-null object\n",
      "inq_last_6mths                 887350 non-null float64\n",
      "mths_since_last_delinq         433067 non-null float64\n",
      "mths_since_last_record         137053 non-null float64\n",
      "open_acc                       887350 non-null float64\n",
      "pub_rec                        887350 non-null float64\n",
      "revol_bal                      887379 non-null float64\n",
      "revol_util                     886877 non-null float64\n",
      "total_acc                      887350 non-null float64\n",
      "initial_list_status            887379 non-null object\n",
      "out_prncp                      887379 non-null float64\n",
      "out_prncp_inv                  887379 non-null float64\n",
      "total_pymnt                    887379 non-null float64\n",
      "total_pymnt_inv                887379 non-null float64\n",
      "total_rec_prncp                887379 non-null float64\n",
      "total_rec_int                  887379 non-null float64\n",
      "total_rec_late_fee             887379 non-null float64\n",
      "recoveries                     887379 non-null float64\n",
      "collection_recovery_fee        887379 non-null float64\n",
      "last_pymnt_d                   869720 non-null object\n",
      "last_pymnt_amnt                887379 non-null float64\n",
      "next_pymnt_d                   634408 non-null object\n",
      "last_credit_pull_d             887326 non-null object\n",
      "collections_12_mths_ex_med     887234 non-null float64\n",
      "mths_since_last_major_derog    221703 non-null float64\n",
      "policy_code                    887379 non-null float64\n",
      "application_type               887379 non-null object\n",
      "annual_inc_joint               511 non-null float64\n",
      "dti_joint                      509 non-null float64\n",
      "verification_status_joint      511 non-null object\n",
      "acc_now_delinq                 887350 non-null float64\n",
      "tot_coll_amt                   817103 non-null float64\n",
      "tot_cur_bal                    817103 non-null float64\n",
      "open_acc_6m                    21372 non-null float64\n",
      "open_il_6m                     21372 non-null float64\n",
      "open_il_12m                    21372 non-null float64\n",
      "open_il_24m                    21372 non-null float64\n",
      "mths_since_rcnt_il             20810 non-null float64\n",
      "total_bal_il                   21372 non-null float64\n",
      "il_util                        18617 non-null float64\n",
      "open_rv_12m                    21372 non-null float64\n",
      "open_rv_24m                    21372 non-null float64\n",
      "max_bal_bc                     21372 non-null float64\n",
      "all_util                       21372 non-null float64\n",
      "total_rev_hi_lim               817103 non-null float64\n",
      "inq_fi                         21372 non-null float64\n",
      "total_cu_tl                    21372 non-null float64\n",
      "inq_last_12m                   21372 non-null float64\n",
      "dtypes: float64(49), int64(2), object(23)\n",
      "memory usage: 501.0+ MB\n"
     ]
    }
   ],
   "source": [
    "loan_df.info()"
   ]
  },
  {
   "cell_type": "code",
   "execution_count": 8,
   "metadata": {},
   "outputs": [
    {
     "data": {
      "text/html": [
       "<div>\n",
       "<style>\n",
       "    .dataframe thead tr:only-child th {\n",
       "        text-align: right;\n",
       "    }\n",
       "\n",
       "    .dataframe thead th {\n",
       "        text-align: left;\n",
       "    }\n",
       "\n",
       "    .dataframe tbody tr th {\n",
       "        vertical-align: top;\n",
       "    }\n",
       "</style>\n",
       "<table border=\"1\" class=\"dataframe\">\n",
       "  <thead>\n",
       "    <tr style=\"text-align: right;\">\n",
       "      <th></th>\n",
       "      <th>id</th>\n",
       "      <th>member_id</th>\n",
       "      <th>loan_amnt</th>\n",
       "      <th>funded_amnt</th>\n",
       "      <th>funded_amnt_inv</th>\n",
       "      <th>int_rate</th>\n",
       "      <th>installment</th>\n",
       "      <th>annual_inc</th>\n",
       "      <th>dti</th>\n",
       "      <th>delinq_2yrs</th>\n",
       "      <th>...</th>\n",
       "      <th>total_bal_il</th>\n",
       "      <th>il_util</th>\n",
       "      <th>open_rv_12m</th>\n",
       "      <th>open_rv_24m</th>\n",
       "      <th>max_bal_bc</th>\n",
       "      <th>all_util</th>\n",
       "      <th>total_rev_hi_lim</th>\n",
       "      <th>inq_fi</th>\n",
       "      <th>total_cu_tl</th>\n",
       "      <th>inq_last_12m</th>\n",
       "    </tr>\n",
       "  </thead>\n",
       "  <tbody>\n",
       "    <tr>\n",
       "      <th>count</th>\n",
       "      <td>8.873790e+05</td>\n",
       "      <td>8.873790e+05</td>\n",
       "      <td>887379.000000</td>\n",
       "      <td>887379.000000</td>\n",
       "      <td>887379.000000</td>\n",
       "      <td>887379.000000</td>\n",
       "      <td>887379.000000</td>\n",
       "      <td>8.873750e+05</td>\n",
       "      <td>887379.000000</td>\n",
       "      <td>887350.000000</td>\n",
       "      <td>...</td>\n",
       "      <td>21372.000000</td>\n",
       "      <td>18617.000000</td>\n",
       "      <td>21372.000000</td>\n",
       "      <td>21372.000000</td>\n",
       "      <td>21372.000000</td>\n",
       "      <td>21372.000000</td>\n",
       "      <td>8.171030e+05</td>\n",
       "      <td>21372.000000</td>\n",
       "      <td>21372.000000</td>\n",
       "      <td>21372.000000</td>\n",
       "    </tr>\n",
       "    <tr>\n",
       "      <th>mean</th>\n",
       "      <td>3.246513e+07</td>\n",
       "      <td>3.500182e+07</td>\n",
       "      <td>14755.264605</td>\n",
       "      <td>14741.877625</td>\n",
       "      <td>14702.464383</td>\n",
       "      <td>13.246740</td>\n",
       "      <td>436.717127</td>\n",
       "      <td>7.502759e+04</td>\n",
       "      <td>18.157039</td>\n",
       "      <td>0.314442</td>\n",
       "      <td>...</td>\n",
       "      <td>36552.811389</td>\n",
       "      <td>71.535317</td>\n",
       "      <td>1.389060</td>\n",
       "      <td>2.975482</td>\n",
       "      <td>5887.979740</td>\n",
       "      <td>60.831939</td>\n",
       "      <td>3.206862e+04</td>\n",
       "      <td>0.943945</td>\n",
       "      <td>1.537058</td>\n",
       "      <td>1.977307</td>\n",
       "    </tr>\n",
       "    <tr>\n",
       "      <th>std</th>\n",
       "      <td>2.282734e+07</td>\n",
       "      <td>2.411335e+07</td>\n",
       "      <td>8435.455601</td>\n",
       "      <td>8429.897657</td>\n",
       "      <td>8442.106732</td>\n",
       "      <td>4.381867</td>\n",
       "      <td>244.186593</td>\n",
       "      <td>6.469830e+04</td>\n",
       "      <td>17.190626</td>\n",
       "      <td>0.862244</td>\n",
       "      <td>...</td>\n",
       "      <td>43103.833619</td>\n",
       "      <td>23.022862</td>\n",
       "      <td>1.520129</td>\n",
       "      <td>2.631886</td>\n",
       "      <td>5284.701239</td>\n",
       "      <td>20.013254</td>\n",
       "      <td>3.749826e+04</td>\n",
       "      <td>1.446872</td>\n",
       "      <td>2.723339</td>\n",
       "      <td>2.874067</td>\n",
       "    </tr>\n",
       "    <tr>\n",
       "      <th>min</th>\n",
       "      <td>5.473400e+04</td>\n",
       "      <td>7.047300e+04</td>\n",
       "      <td>500.000000</td>\n",
       "      <td>500.000000</td>\n",
       "      <td>0.000000</td>\n",
       "      <td>5.320000</td>\n",
       "      <td>15.670000</td>\n",
       "      <td>0.000000e+00</td>\n",
       "      <td>0.000000</td>\n",
       "      <td>0.000000</td>\n",
       "      <td>...</td>\n",
       "      <td>0.000000</td>\n",
       "      <td>0.000000</td>\n",
       "      <td>0.000000</td>\n",
       "      <td>0.000000</td>\n",
       "      <td>0.000000</td>\n",
       "      <td>0.000000</td>\n",
       "      <td>0.000000e+00</td>\n",
       "      <td>0.000000</td>\n",
       "      <td>0.000000</td>\n",
       "      <td>-4.000000</td>\n",
       "    </tr>\n",
       "    <tr>\n",
       "      <th>25%</th>\n",
       "      <td>9.206643e+06</td>\n",
       "      <td>1.087713e+07</td>\n",
       "      <td>8000.000000</td>\n",
       "      <td>8000.000000</td>\n",
       "      <td>8000.000000</td>\n",
       "      <td>9.990000</td>\n",
       "      <td>260.705000</td>\n",
       "      <td>4.500000e+04</td>\n",
       "      <td>11.910000</td>\n",
       "      <td>0.000000</td>\n",
       "      <td>...</td>\n",
       "      <td>10251.500000</td>\n",
       "      <td>58.600000</td>\n",
       "      <td>0.000000</td>\n",
       "      <td>1.000000</td>\n",
       "      <td>2411.000000</td>\n",
       "      <td>47.700000</td>\n",
       "      <td>1.390000e+04</td>\n",
       "      <td>0.000000</td>\n",
       "      <td>0.000000</td>\n",
       "      <td>0.000000</td>\n",
       "    </tr>\n",
       "    <tr>\n",
       "      <th>50%</th>\n",
       "      <td>3.443327e+07</td>\n",
       "      <td>3.709528e+07</td>\n",
       "      <td>13000.000000</td>\n",
       "      <td>13000.000000</td>\n",
       "      <td>13000.000000</td>\n",
       "      <td>12.990000</td>\n",
       "      <td>382.550000</td>\n",
       "      <td>6.500000e+04</td>\n",
       "      <td>17.650000</td>\n",
       "      <td>0.000000</td>\n",
       "      <td>...</td>\n",
       "      <td>24684.500000</td>\n",
       "      <td>74.900000</td>\n",
       "      <td>1.000000</td>\n",
       "      <td>2.000000</td>\n",
       "      <td>4483.000000</td>\n",
       "      <td>61.900000</td>\n",
       "      <td>2.370000e+04</td>\n",
       "      <td>0.000000</td>\n",
       "      <td>0.000000</td>\n",
       "      <td>2.000000</td>\n",
       "    </tr>\n",
       "    <tr>\n",
       "      <th>75%</th>\n",
       "      <td>5.490814e+07</td>\n",
       "      <td>5.847135e+07</td>\n",
       "      <td>20000.000000</td>\n",
       "      <td>20000.000000</td>\n",
       "      <td>20000.000000</td>\n",
       "      <td>16.200000</td>\n",
       "      <td>572.600000</td>\n",
       "      <td>9.000000e+04</td>\n",
       "      <td>23.950000</td>\n",
       "      <td>0.000000</td>\n",
       "      <td>...</td>\n",
       "      <td>47858.000000</td>\n",
       "      <td>87.600000</td>\n",
       "      <td>2.000000</td>\n",
       "      <td>4.000000</td>\n",
       "      <td>7771.500000</td>\n",
       "      <td>75.200000</td>\n",
       "      <td>3.980000e+04</td>\n",
       "      <td>1.000000</td>\n",
       "      <td>2.000000</td>\n",
       "      <td>3.000000</td>\n",
       "    </tr>\n",
       "    <tr>\n",
       "      <th>max</th>\n",
       "      <td>6.861706e+07</td>\n",
       "      <td>7.354484e+07</td>\n",
       "      <td>35000.000000</td>\n",
       "      <td>35000.000000</td>\n",
       "      <td>35000.000000</td>\n",
       "      <td>28.990000</td>\n",
       "      <td>1445.460000</td>\n",
       "      <td>9.500000e+06</td>\n",
       "      <td>9999.000000</td>\n",
       "      <td>39.000000</td>\n",
       "      <td>...</td>\n",
       "      <td>878459.000000</td>\n",
       "      <td>223.300000</td>\n",
       "      <td>22.000000</td>\n",
       "      <td>43.000000</td>\n",
       "      <td>127305.000000</td>\n",
       "      <td>151.400000</td>\n",
       "      <td>9.999999e+06</td>\n",
       "      <td>17.000000</td>\n",
       "      <td>35.000000</td>\n",
       "      <td>32.000000</td>\n",
       "    </tr>\n",
       "  </tbody>\n",
       "</table>\n",
       "<p>8 rows × 51 columns</p>\n",
       "</div>"
      ],
      "text/plain": [
       "                 id     member_id      loan_amnt    funded_amnt  \\\n",
       "count  8.873790e+05  8.873790e+05  887379.000000  887379.000000   \n",
       "mean   3.246513e+07  3.500182e+07   14755.264605   14741.877625   \n",
       "std    2.282734e+07  2.411335e+07    8435.455601    8429.897657   \n",
       "min    5.473400e+04  7.047300e+04     500.000000     500.000000   \n",
       "25%    9.206643e+06  1.087713e+07    8000.000000    8000.000000   \n",
       "50%    3.443327e+07  3.709528e+07   13000.000000   13000.000000   \n",
       "75%    5.490814e+07  5.847135e+07   20000.000000   20000.000000   \n",
       "max    6.861706e+07  7.354484e+07   35000.000000   35000.000000   \n",
       "\n",
       "       funded_amnt_inv       int_rate    installment    annual_inc  \\\n",
       "count    887379.000000  887379.000000  887379.000000  8.873750e+05   \n",
       "mean      14702.464383      13.246740     436.717127  7.502759e+04   \n",
       "std        8442.106732       4.381867     244.186593  6.469830e+04   \n",
       "min           0.000000       5.320000      15.670000  0.000000e+00   \n",
       "25%        8000.000000       9.990000     260.705000  4.500000e+04   \n",
       "50%       13000.000000      12.990000     382.550000  6.500000e+04   \n",
       "75%       20000.000000      16.200000     572.600000  9.000000e+04   \n",
       "max       35000.000000      28.990000    1445.460000  9.500000e+06   \n",
       "\n",
       "                 dti    delinq_2yrs      ...        total_bal_il  \\\n",
       "count  887379.000000  887350.000000      ...        21372.000000   \n",
       "mean       18.157039       0.314442      ...        36552.811389   \n",
       "std        17.190626       0.862244      ...        43103.833619   \n",
       "min         0.000000       0.000000      ...            0.000000   \n",
       "25%        11.910000       0.000000      ...        10251.500000   \n",
       "50%        17.650000       0.000000      ...        24684.500000   \n",
       "75%        23.950000       0.000000      ...        47858.000000   \n",
       "max      9999.000000      39.000000      ...       878459.000000   \n",
       "\n",
       "            il_util   open_rv_12m   open_rv_24m     max_bal_bc      all_util  \\\n",
       "count  18617.000000  21372.000000  21372.000000   21372.000000  21372.000000   \n",
       "mean      71.535317      1.389060      2.975482    5887.979740     60.831939   \n",
       "std       23.022862      1.520129      2.631886    5284.701239     20.013254   \n",
       "min        0.000000      0.000000      0.000000       0.000000      0.000000   \n",
       "25%       58.600000      0.000000      1.000000    2411.000000     47.700000   \n",
       "50%       74.900000      1.000000      2.000000    4483.000000     61.900000   \n",
       "75%       87.600000      2.000000      4.000000    7771.500000     75.200000   \n",
       "max      223.300000     22.000000     43.000000  127305.000000    151.400000   \n",
       "\n",
       "       total_rev_hi_lim        inq_fi   total_cu_tl  inq_last_12m  \n",
       "count      8.171030e+05  21372.000000  21372.000000  21372.000000  \n",
       "mean       3.206862e+04      0.943945      1.537058      1.977307  \n",
       "std        3.749826e+04      1.446872      2.723339      2.874067  \n",
       "min        0.000000e+00      0.000000      0.000000     -4.000000  \n",
       "25%        1.390000e+04      0.000000      0.000000      0.000000  \n",
       "50%        2.370000e+04      0.000000      0.000000      2.000000  \n",
       "75%        3.980000e+04      1.000000      2.000000      3.000000  \n",
       "max        9.999999e+06     17.000000     35.000000     32.000000  \n",
       "\n",
       "[8 rows x 51 columns]"
      ]
     },
     "execution_count": 8,
     "metadata": {},
     "output_type": "execute_result"
    }
   ],
   "source": [
    "loan_df.describe()"
   ]
  },
  {
   "cell_type": "markdown",
   "metadata": {},
   "source": [
    "### III) Clean Up and Convert Data Types of Variables"
   ]
  },
  {
   "cell_type": "code",
   "execution_count": 9,
   "metadata": {},
   "outputs": [
    {
     "data": {
      "text/plain": [
       "(887379, 55)"
      ]
     },
     "execution_count": 9,
     "metadata": {},
     "output_type": "execute_result"
    }
   ],
   "source": [
    "# Dropping columns with > 80% missing entries\n",
    "loan_df = loan_df.dropna(thresh = len(loan_df)*0.2, axis = 1)\n",
    "loan_df.shape"
   ]
  },
  {
   "cell_type": "code",
   "execution_count": 10,
   "metadata": {
    "collapsed": true
   },
   "outputs": [],
   "source": [
    "# dropping columns we are certain won't be needed for analysis\n",
    "# id, member_id - no real predictive power\n",
    "loan_df = loan_df.drop(['id', 'member_id'], axis = 1)"
   ]
  },
  {
   "cell_type": "markdown",
   "metadata": {},
   "source": [
    "#### 1) Loan Amount and Funded Amount"
   ]
  },
  {
   "cell_type": "code",
   "execution_count": 11,
   "metadata": {},
   "outputs": [
    {
     "name": "stdout",
     "output_type": "stream",
     "text": [
      "False    885317\n",
      "True       2062\n",
      "dtype: int64\n"
     ]
    }
   ],
   "source": [
    "# inspecting loan_amnt vs funded_amnt\n",
    "print((loan_df['loan_amnt'] != loan_df['funded_amnt']).value_counts())\n",
    "\n",
    "# since the number of people who were granted a different loan amount\n",
    "# than requested is <1%, ignoring this difference and dropping funded_amnt\n",
    "loan_df = loan_df.drop('funded_amnt', axis=1)"
   ]
  },
  {
   "cell_type": "markdown",
   "metadata": {},
   "source": [
    "#### 2) Term"
   ]
  },
  {
   "cell_type": "code",
   "execution_count": 12,
   "metadata": {},
   "outputs": [
    {
     "data": {
      "text/plain": [
       " 36 months    621125\n",
       " 60 months    266254\n",
       "Name: term, dtype: int64"
      ]
     },
     "execution_count": 12,
     "metadata": {},
     "output_type": "execute_result"
    }
   ],
   "source": [
    "loan_df['term'].value_counts()"
   ]
  },
  {
   "cell_type": "code",
   "execution_count": 13,
   "metadata": {},
   "outputs": [],
   "source": [
    "# creating dummies for term - 36 months: 1, 60 months:0\n",
    "loan_df['term_encoded'] = loan_df['term'].replace([' 36 months',' 60 months'],[1,0])\n",
    "loan_df = loan_df.drop('term', axis=1)"
   ]
  },
  {
   "cell_type": "code",
   "execution_count": 14,
   "metadata": {},
   "outputs": [
    {
     "data": {
      "text/html": [
       "<div>\n",
       "<style>\n",
       "    .dataframe thead tr:only-child th {\n",
       "        text-align: right;\n",
       "    }\n",
       "\n",
       "    .dataframe thead th {\n",
       "        text-align: left;\n",
       "    }\n",
       "\n",
       "    .dataframe tbody tr th {\n",
       "        vertical-align: top;\n",
       "    }\n",
       "</style>\n",
       "<table border=\"1\" class=\"dataframe\">\n",
       "  <thead>\n",
       "    <tr style=\"text-align: right;\">\n",
       "      <th></th>\n",
       "      <th>emp_length</th>\n",
       "      <th>home_ownership</th>\n",
       "      <th>annual_inc</th>\n",
       "      <th>verification_status</th>\n",
       "      <th>issue_d</th>\n",
       "      <th>loan_status</th>\n",
       "      <th>pymnt_plan</th>\n",
       "      <th>url</th>\n",
       "    </tr>\n",
       "  </thead>\n",
       "  <tbody>\n",
       "    <tr>\n",
       "      <th>0</th>\n",
       "      <td>10+ years</td>\n",
       "      <td>RENT</td>\n",
       "      <td>24000.0</td>\n",
       "      <td>Verified</td>\n",
       "      <td>Dec-2011</td>\n",
       "      <td>Fully Paid</td>\n",
       "      <td>n</td>\n",
       "      <td>https://www.lendingclub.com/browse/loanDetail....</td>\n",
       "    </tr>\n",
       "    <tr>\n",
       "      <th>1</th>\n",
       "      <td>&lt; 1 year</td>\n",
       "      <td>RENT</td>\n",
       "      <td>30000.0</td>\n",
       "      <td>Source Verified</td>\n",
       "      <td>Dec-2011</td>\n",
       "      <td>Charged Off</td>\n",
       "      <td>n</td>\n",
       "      <td>https://www.lendingclub.com/browse/loanDetail....</td>\n",
       "    </tr>\n",
       "    <tr>\n",
       "      <th>2</th>\n",
       "      <td>10+ years</td>\n",
       "      <td>RENT</td>\n",
       "      <td>12252.0</td>\n",
       "      <td>Not Verified</td>\n",
       "      <td>Dec-2011</td>\n",
       "      <td>Fully Paid</td>\n",
       "      <td>n</td>\n",
       "      <td>https://www.lendingclub.com/browse/loanDetail....</td>\n",
       "    </tr>\n",
       "    <tr>\n",
       "      <th>3</th>\n",
       "      <td>10+ years</td>\n",
       "      <td>RENT</td>\n",
       "      <td>49200.0</td>\n",
       "      <td>Source Verified</td>\n",
       "      <td>Dec-2011</td>\n",
       "      <td>Fully Paid</td>\n",
       "      <td>n</td>\n",
       "      <td>https://www.lendingclub.com/browse/loanDetail....</td>\n",
       "    </tr>\n",
       "    <tr>\n",
       "      <th>4</th>\n",
       "      <td>1 year</td>\n",
       "      <td>RENT</td>\n",
       "      <td>80000.0</td>\n",
       "      <td>Source Verified</td>\n",
       "      <td>Dec-2011</td>\n",
       "      <td>Current</td>\n",
       "      <td>n</td>\n",
       "      <td>https://www.lendingclub.com/browse/loanDetail....</td>\n",
       "    </tr>\n",
       "  </tbody>\n",
       "</table>\n",
       "</div>"
      ],
      "text/plain": [
       "  emp_length home_ownership  annual_inc verification_status   issue_d  \\\n",
       "0  10+ years           RENT     24000.0            Verified  Dec-2011   \n",
       "1   < 1 year           RENT     30000.0     Source Verified  Dec-2011   \n",
       "2  10+ years           RENT     12252.0        Not Verified  Dec-2011   \n",
       "3  10+ years           RENT     49200.0     Source Verified  Dec-2011   \n",
       "4     1 year           RENT     80000.0     Source Verified  Dec-2011   \n",
       "\n",
       "   loan_status pymnt_plan                                                url  \n",
       "0   Fully Paid          n  https://www.lendingclub.com/browse/loanDetail....  \n",
       "1  Charged Off          n  https://www.lendingclub.com/browse/loanDetail....  \n",
       "2   Fully Paid          n  https://www.lendingclub.com/browse/loanDetail....  \n",
       "3   Fully Paid          n  https://www.lendingclub.com/browse/loanDetail....  \n",
       "4      Current          n  https://www.lendingclub.com/browse/loanDetail....  "
      ]
     },
     "execution_count": 14,
     "metadata": {},
     "output_type": "execute_result"
    }
   ],
   "source": [
    "loan_df.iloc[:5, 7:15]"
   ]
  },
  {
   "cell_type": "markdown",
   "metadata": {},
   "source": [
    "#### 2) Employment Title"
   ]
  },
  {
   "cell_type": "code",
   "execution_count": 15,
   "metadata": {},
   "outputs": [
    {
     "name": "stdout",
     "output_type": "stream",
     "text": [
      "The number of unique values in employment title: 299270\n"
     ]
    }
   ],
   "source": [
    "# Due to high cardinality, 'emp_title' won't be useful for analysis\n",
    "# no grouping of similar professions is being done\n",
    "print(\"The number of unique values in employment title: %d\" % (loan_df['emp_title'].nunique()))\n",
    "# Dropping this column since it won't help in the analysis\n",
    "loan_df_clean = loan_df.drop('emp_title', axis=1)"
   ]
  },
  {
   "cell_type": "markdown",
   "metadata": {},
   "source": [
    "#### 3) Employment Length"
   ]
  },
  {
   "cell_type": "code",
   "execution_count": 16,
   "metadata": {},
   "outputs": [
    {
     "data": {
      "text/plain": [
       "10+ years    291569\n",
       "2 years       78870\n",
       "< 1 year      70605\n",
       "3 years       70026\n",
       "1 year        57095\n",
       "5 years       55704\n",
       "4 years       52529\n",
       "7 years       44594\n",
       "8 years       43955\n",
       "6 years       42950\n",
       "9 years       34657\n",
       "Name: emp_length, dtype: int64"
      ]
     },
     "execution_count": 16,
     "metadata": {},
     "output_type": "execute_result"
    }
   ],
   "source": [
    "# unique values\n",
    "loan_df_clean['emp_length'].value_counts()"
   ]
  },
  {
   "cell_type": "code",
   "execution_count": 17,
   "metadata": {},
   "outputs": [],
   "source": [
    "# Check for NAs\n",
    "loan_df_clean['emp_length'].isnull().sum()\n",
    "# Replace na with string 0, since emp_length is of object type\n",
    "loan_df_clean['emp_length'] = loan_df_clean['emp_length'].fillna(value=\"0\")\n",
    "# Remove everything other than integers and convert to int\n",
    "loan_df_clean['emp_length'] = loan_df_clean['emp_length'].replace(to_replace='\\D+', value='', regex=True).astype(int)"
   ]
  },
  {
   "cell_type": "markdown",
   "metadata": {},
   "source": [
    "#### 4) Home Ownership"
   ]
  },
  {
   "cell_type": "code",
   "execution_count": 18,
   "metadata": {},
   "outputs": [
    {
     "name": "stdout",
     "output_type": "stream",
     "text": [
      "MORTGAGE    443557\n",
      "RENT        356117\n",
      "OWN          87470\n",
      "OTHER          182\n",
      "NONE            50\n",
      "ANY              3\n",
      "Name: home_ownership, dtype: int64\n"
     ]
    }
   ],
   "source": [
    "print(loan_df_clean['home_ownership'].value_counts())\n",
    "# remove ambiguous categories - other, none, any\n",
    "\n",
    "# loan_df_bkup = loan_df_bkup[(loan_df_bkup.loan_status != 'OTHER') & (loan_df_bkup.loan_status != 'ANY') & (loan_df_bkup.loan_status != 'NONE')]\n",
    "loan_df_clean['home_ownership'] = loan_df_clean['home_ownership'].replace(['ANY', 'OTHER', 'NONE'], NaN)\n",
    "loan_df_clean = loan_df_clean.dropna(subset=['home_ownership'])\n"
   ]
  },
  {
   "cell_type": "markdown",
   "metadata": {},
   "source": [
    "#### 5) Verification Status"
   ]
  },
  {
   "cell_type": "code",
   "execution_count": 19,
   "metadata": {},
   "outputs": [
    {
     "name": "stdout",
     "output_type": "stream",
     "text": [
      "Source Verified    329535\n",
      "Verified           290976\n",
      "Not Verified       266633\n",
      "Name: verification_status, dtype: int64\n"
     ]
    }
   ],
   "source": [
    "# unique values\n",
    "# not sure of diff between Verified and Source Verified\n",
    "# clubbing source verified and verified into one group\n",
    "print(loan_df_clean['verification_status'].value_counts())\n",
    "loan_df['verification_status'] = loan_df['verification_status'].replace('Source Verified', 'Verified')"
   ]
  },
  {
   "cell_type": "markdown",
   "metadata": {},
   "source": [
    "#### 6) Issue Date"
   ]
  },
  {
   "cell_type": "code",
   "execution_count": 20,
   "metadata": {
    "collapsed": true
   },
   "outputs": [],
   "source": [
    "# Convert to datetime\n",
    "loan_df_clean['issue_d'] = pd.to_datetime(loan_df_clean['issue_d'], format='%b-%Y')\n",
    "# extract month and year creating separate features\n",
    "loan_df_clean['issue_month'] = loan_df_clean['issue_d'].dt.month\n",
    "loan_df_clean['issue_year'] = loan_df_clean['issue_d'].dt.year\n",
    "# drop original issue_d column\n",
    "loan_df_clean = loan_df_clean.drop('issue_d', axis=1)"
   ]
  },
  {
   "cell_type": "markdown",
   "metadata": {},
   "source": [
    "#### 7) Loan Status"
   ]
  },
  {
   "cell_type": "code",
   "execution_count": 21,
   "metadata": {},
   "outputs": [
    {
     "data": {
      "text/plain": [
       "Current                                                601772\n",
       "Fully Paid                                             207572\n",
       "Charged Off                                             45214\n",
       "Late (31-120 days)                                      11591\n",
       "Issued                                                   8460\n",
       "In Grace Period                                          6253\n",
       "Late (16-30 days)                                        2357\n",
       "Does not meet the credit policy. Status:Fully Paid       1957\n",
       "Default                                                  1219\n",
       "Does not meet the credit policy. Status:Charged Off       749\n",
       "Name: loan_status, dtype: int64"
      ]
     },
     "execution_count": 21,
     "metadata": {},
     "output_type": "execute_result"
    }
   ],
   "source": [
    "loan_df_clean['loan_status'].value_counts()"
   ]
  },
  {
   "cell_type": "code",
   "execution_count": 22,
   "metadata": {
    "collapsed": true
   },
   "outputs": [],
   "source": [
    "# merge 'Fully Paid', 'Does not meet the credit policy. Status:Fully Paid'\n",
    "loan_df_clean['loan_status'] =  loan_df_clean['loan_status'].replace('Does not meet the credit policy. Status:Fully Paid', 'Fully Paid')\n",
    "# merge 'Charged Off', 'Does not meet the credit policy. Status:Charged Off'\n",
    "loan_df_clean['loan_status'] =  loan_df_clean['loan_status'].replace('Does not meet the credit policy. Status:Charged Off', 'Charged Off')"
   ]
  },
  {
   "cell_type": "markdown",
   "metadata": {},
   "source": [
    "#### Examing third set of columns"
   ]
  },
  {
   "cell_type": "code",
   "execution_count": 23,
   "metadata": {},
   "outputs": [
    {
     "data": {
      "text/html": [
       "<div>\n",
       "<style>\n",
       "    .dataframe thead tr:only-child th {\n",
       "        text-align: right;\n",
       "    }\n",
       "\n",
       "    .dataframe thead th {\n",
       "        text-align: left;\n",
       "    }\n",
       "\n",
       "    .dataframe tbody tr th {\n",
       "        vertical-align: top;\n",
       "    }\n",
       "</style>\n",
       "<table border=\"1\" class=\"dataframe\">\n",
       "  <thead>\n",
       "    <tr style=\"text-align: right;\">\n",
       "      <th></th>\n",
       "      <th>out_prncp</th>\n",
       "      <th>out_prncp_inv</th>\n",
       "      <th>total_pymnt</th>\n",
       "      <th>total_pymnt_inv</th>\n",
       "      <th>total_rec_prncp</th>\n",
       "      <th>total_rec_int</th>\n",
       "      <th>total_rec_late_fee</th>\n",
       "      <th>recoveries</th>\n",
       "      <th>collection_recovery_fee</th>\n",
       "      <th>last_pymnt_d</th>\n",
       "      <th>last_pymnt_amnt</th>\n",
       "      <th>next_pymnt_d</th>\n",
       "      <th>last_credit_pull_d</th>\n",
       "      <th>collections_12_mths_ex_med</th>\n",
       "      <th>mths_since_last_major_derog</th>\n",
       "      <th>policy_code</th>\n",
       "      <th>application_type</th>\n",
       "      <th>acc_now_delinq</th>\n",
       "    </tr>\n",
       "  </thead>\n",
       "  <tbody>\n",
       "    <tr>\n",
       "      <th>0</th>\n",
       "      <td>0.0</td>\n",
       "      <td>0.0</td>\n",
       "      <td>5861.071414</td>\n",
       "      <td>5831.78</td>\n",
       "      <td>5000.00</td>\n",
       "      <td>861.07</td>\n",
       "      <td>0.00</td>\n",
       "      <td>0.00</td>\n",
       "      <td>0.00</td>\n",
       "      <td>Jan-2015</td>\n",
       "      <td>171.62</td>\n",
       "      <td>NaN</td>\n",
       "      <td>Jan-2016</td>\n",
       "      <td>0.0</td>\n",
       "      <td>NaN</td>\n",
       "      <td>1.0</td>\n",
       "      <td>INDIVIDUAL</td>\n",
       "      <td>0.0</td>\n",
       "    </tr>\n",
       "    <tr>\n",
       "      <th>1</th>\n",
       "      <td>0.0</td>\n",
       "      <td>0.0</td>\n",
       "      <td>1008.710000</td>\n",
       "      <td>1008.71</td>\n",
       "      <td>456.46</td>\n",
       "      <td>435.17</td>\n",
       "      <td>0.00</td>\n",
       "      <td>117.08</td>\n",
       "      <td>1.11</td>\n",
       "      <td>Apr-2013</td>\n",
       "      <td>119.66</td>\n",
       "      <td>NaN</td>\n",
       "      <td>Sep-2013</td>\n",
       "      <td>0.0</td>\n",
       "      <td>NaN</td>\n",
       "      <td>1.0</td>\n",
       "      <td>INDIVIDUAL</td>\n",
       "      <td>0.0</td>\n",
       "    </tr>\n",
       "    <tr>\n",
       "      <th>2</th>\n",
       "      <td>0.0</td>\n",
       "      <td>0.0</td>\n",
       "      <td>3003.653644</td>\n",
       "      <td>3003.65</td>\n",
       "      <td>2400.00</td>\n",
       "      <td>603.65</td>\n",
       "      <td>0.00</td>\n",
       "      <td>0.00</td>\n",
       "      <td>0.00</td>\n",
       "      <td>Jun-2014</td>\n",
       "      <td>649.91</td>\n",
       "      <td>NaN</td>\n",
       "      <td>Jan-2016</td>\n",
       "      <td>0.0</td>\n",
       "      <td>NaN</td>\n",
       "      <td>1.0</td>\n",
       "      <td>INDIVIDUAL</td>\n",
       "      <td>0.0</td>\n",
       "    </tr>\n",
       "    <tr>\n",
       "      <th>3</th>\n",
       "      <td>0.0</td>\n",
       "      <td>0.0</td>\n",
       "      <td>12226.302212</td>\n",
       "      <td>12226.30</td>\n",
       "      <td>10000.00</td>\n",
       "      <td>2209.33</td>\n",
       "      <td>16.97</td>\n",
       "      <td>0.00</td>\n",
       "      <td>0.00</td>\n",
       "      <td>Jan-2015</td>\n",
       "      <td>357.48</td>\n",
       "      <td>NaN</td>\n",
       "      <td>Jan-2015</td>\n",
       "      <td>0.0</td>\n",
       "      <td>NaN</td>\n",
       "      <td>1.0</td>\n",
       "      <td>INDIVIDUAL</td>\n",
       "      <td>0.0</td>\n",
       "    </tr>\n",
       "    <tr>\n",
       "      <th>4</th>\n",
       "      <td>766.9</td>\n",
       "      <td>766.9</td>\n",
       "      <td>3242.170000</td>\n",
       "      <td>3242.17</td>\n",
       "      <td>2233.10</td>\n",
       "      <td>1009.07</td>\n",
       "      <td>0.00</td>\n",
       "      <td>0.00</td>\n",
       "      <td>0.00</td>\n",
       "      <td>Jan-2016</td>\n",
       "      <td>67.79</td>\n",
       "      <td>Feb-2016</td>\n",
       "      <td>Jan-2016</td>\n",
       "      <td>0.0</td>\n",
       "      <td>NaN</td>\n",
       "      <td>1.0</td>\n",
       "      <td>INDIVIDUAL</td>\n",
       "      <td>0.0</td>\n",
       "    </tr>\n",
       "  </tbody>\n",
       "</table>\n",
       "</div>"
      ],
      "text/plain": [
       "   out_prncp  out_prncp_inv   total_pymnt  total_pymnt_inv  total_rec_prncp  \\\n",
       "0        0.0            0.0   5861.071414          5831.78          5000.00   \n",
       "1        0.0            0.0   1008.710000          1008.71           456.46   \n",
       "2        0.0            0.0   3003.653644          3003.65          2400.00   \n",
       "3        0.0            0.0  12226.302212         12226.30         10000.00   \n",
       "4      766.9          766.9   3242.170000          3242.17          2233.10   \n",
       "\n",
       "   total_rec_int  total_rec_late_fee  recoveries  collection_recovery_fee  \\\n",
       "0         861.07                0.00        0.00                     0.00   \n",
       "1         435.17                0.00      117.08                     1.11   \n",
       "2         603.65                0.00        0.00                     0.00   \n",
       "3        2209.33               16.97        0.00                     0.00   \n",
       "4        1009.07                0.00        0.00                     0.00   \n",
       "\n",
       "  last_pymnt_d  last_pymnt_amnt next_pymnt_d last_credit_pull_d  \\\n",
       "0     Jan-2015           171.62          NaN           Jan-2016   \n",
       "1     Apr-2013           119.66          NaN           Sep-2013   \n",
       "2     Jun-2014           649.91          NaN           Jan-2016   \n",
       "3     Jan-2015           357.48          NaN           Jan-2015   \n",
       "4     Jan-2016            67.79     Feb-2016           Jan-2016   \n",
       "\n",
       "   collections_12_mths_ex_med  mths_since_last_major_derog  policy_code  \\\n",
       "0                         0.0                          NaN          1.0   \n",
       "1                         0.0                          NaN          1.0   \n",
       "2                         0.0                          NaN          1.0   \n",
       "3                         0.0                          NaN          1.0   \n",
       "4                         0.0                          NaN          1.0   \n",
       "\n",
       "  application_type  acc_now_delinq  \n",
       "0       INDIVIDUAL             0.0  \n",
       "1       INDIVIDUAL             0.0  \n",
       "2       INDIVIDUAL             0.0  \n",
       "3       INDIVIDUAL             0.0  \n",
       "4       INDIVIDUAL             0.0  "
      ]
     },
     "execution_count": 23,
     "metadata": {},
     "output_type": "execute_result"
    }
   ],
   "source": [
    "loan_df_clean.iloc[:5, 28:46]"
   ]
  },
  {
   "cell_type": "code",
   "execution_count": 24,
   "metadata": {},
   "outputs": [
    {
     "data": {
      "text/plain": [
       "n    887134\n",
       "y        10\n",
       "Name: pymnt_plan, dtype: int64"
      ]
     },
     "execution_count": 24,
     "metadata": {},
     "output_type": "execute_result"
    }
   ],
   "source": [
    "loan_df_clean['pymnt_plan'].value_counts()"
   ]
  },
  {
   "cell_type": "code",
   "execution_count": 25,
   "metadata": {},
   "outputs": [],
   "source": [
    "# drop payment plan since almost all rows have 'n'\n",
    "# drop url, title, desc since these aren't useful for analysis\n",
    "# title, desc - borrower written free text\n",
    "loan_df_clean = loan_df_clean.drop(['pymnt_plan', 'url', 'title','zip_code'], axis=1)\n"
   ]
  },
  {
   "cell_type": "code",
   "execution_count": 26,
   "metadata": {},
   "outputs": [],
   "source": [
    "# drop columns since most values are NA\n",
    "loan_df_clean['mths_since_last_delinq'].isnull().value_counts()\n",
    "loan_df_clean = loan_df_clean.drop('mths_since_last_delinq', axis=1)"
   ]
  },
  {
   "cell_type": "code",
   "execution_count": 27,
   "metadata": {},
   "outputs": [
    {
     "data": {
      "text/plain": [
       "False    887119\n",
       "True         25\n",
       "Name: open_acc, dtype: int64"
      ]
     },
     "execution_count": 27,
     "metadata": {},
     "output_type": "execute_result"
    }
   ],
   "source": [
    "loan_df_clean['open_acc'].isnull().value_counts()"
   ]
  },
  {
   "cell_type": "code",
   "execution_count": 28,
   "metadata": {},
   "outputs": [
    {
     "data": {
      "text/plain": [
       "False    887119\n",
       "True         25\n",
       "Name: pub_rec, dtype: int64"
      ]
     },
     "execution_count": 28,
     "metadata": {},
     "output_type": "execute_result"
    }
   ],
   "source": [
    "loan_df_clean['pub_rec'].isnull().value_counts()"
   ]
  },
  {
   "cell_type": "code",
   "execution_count": 29,
   "metadata": {
    "collapsed": true
   },
   "outputs": [],
   "source": [
    "# since pub_rec and open rec could be important features, removing NA rows\n",
    "loan_df_clean = loan_df_clean.dropna(subset=['open_acc','pub_rec', 'revol_util','collections_12_mths_ex_med'])"
   ]
  },
  {
   "cell_type": "code",
   "execution_count": 30,
   "metadata": {},
   "outputs": [
    {
     "data": {
      "text/plain": [
       "(886537, 47)"
      ]
     },
     "execution_count": 30,
     "metadata": {},
     "output_type": "execute_result"
    }
   ],
   "source": [
    "loan_df_clean.shape"
   ]
  },
  {
   "cell_type": "code",
   "execution_count": 31,
   "metadata": {},
   "outputs": [],
   "source": [
    "# drop outstanding principal funded by investors,\n",
    "# since >95% rows have the same values in both cols\n",
    "(loan_df_clean.out_prncp_inv == loan_df_clean.out_prncp).value_counts()\n",
    "loan_df_clean = loan_df_clean.drop('out_prncp_inv', axis=1)"
   ]
  },
  {
   "cell_type": "code",
   "execution_count": 32,
   "metadata": {},
   "outputs": [
    {
     "name": "stdout",
     "output_type": "stream",
     "text": [
      "False    634002\n",
      "True     252535\n",
      "Name: next_pymnt_d, dtype: int64\n",
      "True     665013\n",
      "False    221524\n",
      "Name: mths_since_last_major_derog, dtype: int64\n",
      "1.0    886537\n",
      "Name: policy_code, dtype: int64\n"
     ]
    }
   ],
   "source": [
    "print(loan_df_clean.next_pymnt_d.isnull().value_counts())\n",
    "\n",
    "print(loan_df_clean.mths_since_last_major_derog.isnull().value_counts())\n",
    "\n",
    "print(loan_df_clean.policy_code.value_counts())\n",
    "\n",
    "# drop last_pymnt_d,next_pymnt_d, mths_since_last_major_derog since there are too many NAs\n",
    "# drop policy_code since all values are the same\n",
    "loan_df_clean = loan_df_clean.drop(['last_pymnt_d','next_pymnt_d', 'mths_since_last_major_derog', 'policy_code'], axis=1)\n"
   ]
  },
  {
   "cell_type": "code",
   "execution_count": 33,
   "metadata": {},
   "outputs": [],
   "source": [
    "# drop acc_now_delinq since delinquency is captured more accurately in other columns \n",
    "loan_df_clean.acc_now_delinq.value_counts()\n",
    "loan_df_clean = loan_df_clean.drop(['acc_now_delinq','last_credit_pull_d'], axis=1)"
   ]
  },
  {
   "cell_type": "code",
   "execution_count": 34,
   "metadata": {},
   "outputs": [],
   "source": [
    "# removing na rows from tot_coll_amt and tot_cur_bal\n",
    "loan_df_clean = loan_df_clean.dropna(subset=['tot_coll_amt','tot_cur_bal'])"
   ]
  },
  {
   "cell_type": "markdown",
   "metadata": {},
   "source": [
    "#### Feature Engineering"
   ]
  },
  {
   "cell_type": "code",
   "execution_count": 35,
   "metadata": {},
   "outputs": [],
   "source": [
    "# Encode new column (dependent variable) based on loan status\n",
    "# bad - Default, Charged Off \n",
    "# good - Fully Paid\n",
    "# remove - Late (16-30 days),Late (31-120 days), Current,In Grace Period\n",
    "loan_df_clean = loan_df_clean[(loan_df_clean.loan_status == 'Fully Paid') | (loan_df_clean.loan_status == 'Charged Off') | (loan_df_clean.loan_status == 'Default')]\n",
    "\n",
    "loan_df_clean['bad_loan'] = loan_df_clean['loan_status'].replace({'Charged Off': 1,'Default': 1, 'Fully Paid':0})\n",
    "\n",
    "# drop loan_status\n",
    "loan_df_clean = loan_df_clean.drop('loan_status', axis=1)"
   ]
  },
  {
   "cell_type": "code",
   "execution_count": 36,
   "metadata": {},
   "outputs": [
    {
     "data": {
      "text/plain": [
       "0    153869\n",
       "1     36391\n",
       "Name: bad_loan, dtype: int64"
      ]
     },
     "execution_count": 36,
     "metadata": {},
     "output_type": "execute_result"
    }
   ],
   "source": [
    "loan_df_clean.bad_loan.value_counts()"
   ]
  },
  {
   "cell_type": "markdown",
   "metadata": {},
   "source": [
    "### Correlation"
   ]
  },
  {
   "cell_type": "code",
   "execution_count": 37,
   "metadata": {},
   "outputs": [
    {
     "data": {
      "text/plain": [
       "funded_amnt_inv          loan_amnt          0.999990\n",
       "installment              loan_amnt          0.956443\n",
       "                         funded_amnt_inv    0.956451\n",
       "total_acc                open_acc           0.663867\n",
       "total_pymnt              loan_amnt          0.828389\n",
       "                         funded_amnt_inv    0.828346\n",
       "                         installment        0.805930\n",
       "total_pymnt_inv          loan_amnt          0.828411\n",
       "                         funded_amnt_inv    0.828379\n",
       "                         installment        0.805956\n",
       "                         total_pymnt        0.999995\n",
       "total_rec_prncp          loan_amnt          0.765324\n",
       "                         funded_amnt_inv    0.765295\n",
       "                         installment        0.748000\n",
       "                         total_pymnt        0.977423\n",
       "                         total_pymnt_inv    0.977427\n",
       "total_rec_int            loan_amnt          0.629116\n",
       "                         funded_amnt_inv    0.629039\n",
       "                         installment        0.601320\n",
       "                         total_pymnt        0.645986\n",
       "                         total_pymnt_inv    0.645941\n",
       "collection_recovery_fee  recoveries         0.820438\n",
       "last_pymnt_amnt          loan_amnt          0.591283\n",
       "                         funded_amnt_inv    0.591394\n",
       "                         total_pymnt        0.745989\n",
       "                         total_pymnt_inv    0.746121\n",
       "                         total_rec_prncp    0.800892\n",
       "total_rev_hi_lim         revol_bal          0.827293\n",
       "dtype: float64"
      ]
     },
     "execution_count": 37,
     "metadata": {},
     "output_type": "execute_result"
    }
   ],
   "source": [
    "corrmat = loan_df_clean.corr()\n",
    "corrmat.loc[:,:] = np.tril(corrmat, k=-1)\n",
    "corrmat = corrmat.stack()\n",
    "corrmat[(corrmat > 0.55) | (corrmat < -0.55)]"
   ]
  },
  {
   "cell_type": "code",
   "execution_count": 38,
   "metadata": {},
   "outputs": [],
   "source": [
    "# drop redundant/correlated data to address multicollinearity\n",
    "loan_df_clean = loan_df_clean.drop(['funded_amnt_inv','installment','total_acc','total_pymnt','total_pymnt_inv',\n",
    "                                    'total_rec_prncp','total_rec_int','collection_recovery_fee','last_pymnt_amnt',\n",
    "                                    'total_rev_hi_lim'], axis=1)\n"
   ]
  },
  {
   "cell_type": "code",
   "execution_count": 39,
   "metadata": {
    "collapsed": true
   },
   "outputs": [],
   "source": [
    "loan_df_clean = loan_df_clean.drop('earliest_cr_line', axis=1)"
   ]
  },
  {
   "cell_type": "code",
   "execution_count": 40,
   "metadata": {},
   "outputs": [
    {
     "data": {
      "text/plain": [
       "(190260, 29)"
      ]
     },
     "execution_count": 40,
     "metadata": {},
     "output_type": "execute_result"
    }
   ],
   "source": [
    "loan_df_clean.shape"
   ]
  },
  {
   "cell_type": "code",
   "execution_count": 41,
   "metadata": {},
   "outputs": [
    {
     "name": "stdout",
     "output_type": "stream",
     "text": [
      "<class 'pandas.core.frame.DataFrame'>\n",
      "Int64Index: 190260 entries, 42538 to 887371\n",
      "Columns: 136 entries, loan_amnt to application_type_JOINT\n",
      "dtypes: float64(16), int64(5), uint8(115)\n",
      "memory usage: 52.8 MB\n",
      "None\n",
      "(190260, 136)\n"
     ]
    }
   ],
   "source": [
    "loan_df_clean = pd.get_dummies(loan_df_clean)\n",
    "print(loan_df_clean.info())\n",
    "print(loan_df_clean.shape)"
   ]
  },
  {
   "cell_type": "markdown",
   "metadata": {},
   "source": [
    "### Predicting Bad Loans"
   ]
  },
  {
   "cell_type": "code",
   "execution_count": 42,
   "metadata": {},
   "outputs": [
    {
     "name": "stdout",
     "output_type": "stream",
     "text": [
      "<class 'pandas.core.frame.DataFrame'>\n",
      "(190260, 135)\n"
     ]
    }
   ],
   "source": [
    "# create a Python list of feature names\n",
    "# Get all columns from dataframe\n",
    "feature_cols = loan_df_clean.columns.tolist()\n",
    "# Filter columns to remove the ones not needed - retain only numeric varaibles\n",
    "feature_cols  = [c for c in feature_cols if c not in ['bad_loan']]\n",
    "# use the list to select a subset of the original DataFrame\n",
    "X = loan_df_clean[feature_cols]\n",
    "print(type(X))\n",
    "print(X.shape)"
   ]
  },
  {
   "cell_type": "code",
   "execution_count": 43,
   "metadata": {},
   "outputs": [
    {
     "name": "stdout",
     "output_type": "stream",
     "text": [
      "<class 'pandas.core.series.Series'>\n",
      "(190260,)\n"
     ]
    }
   ],
   "source": [
    "# select a Series from the DataFrame\n",
    "y = loan_df_clean['bad_loan']\n",
    "# print the first 5 values\n",
    "print(type(y))\n",
    "print(y.shape)"
   ]
  },
  {
   "cell_type": "markdown",
   "metadata": {},
   "source": [
    "### Splitting X and y into training and testing sets"
   ]
  },
  {
   "cell_type": "code",
   "execution_count": 44,
   "metadata": {},
   "outputs": [
    {
     "name": "stdout",
     "output_type": "stream",
     "text": [
      "(142695, 135)\n",
      "(142695,)\n",
      "(47565, 135)\n",
      "(47565,)\n"
     ]
    }
   ],
   "source": [
    "X_train, X_test, y_train, y_test = train_test_split(X, y, random_state=1)\n",
    "\n",
    "# default split is 75% for training and 25% for testing\n",
    "print(X_train.shape)\n",
    "print(y_train.shape)\n",
    "print(X_test.shape)\n",
    "print(y_test.shape)"
   ]
  },
  {
   "cell_type": "markdown",
   "metadata": {},
   "source": [
    "#### Comparing Logistic Regression, Gradient Boosting, Ramdom Forest Classifiers"
   ]
  },
  {
   "cell_type": "code",
   "execution_count": 45,
   "metadata": {},
   "outputs": [],
   "source": [
    "from sklearn.linear_model import LogisticRegression\n",
    "from sklearn.ensemble import RandomForestClassifier, GradientBoostingClassifier"
   ]
  },
  {
   "cell_type": "code",
   "execution_count": 47,
   "metadata": {},
   "outputs": [],
   "source": [
    "# Compare different classifer models\n",
    "def compare_classifier_models(X_train, y_train, X_test, y_test, model_dict):\n",
    "        cols = ['model', 'roc_auc_score', 'precision_score', 'recall_score', 'f1_score', 'matthews_corrcoef']\n",
    "        model_results = pd.DataFrame(columns = cols)\n",
    "        conf_matrix = dict()\n",
    "        row = dict.fromkeys(cols)\n",
    "        for model_name, model in zip(model_dict.keys(), model_dict.values()):\n",
    "            print('Running {model}:'.format(model=model_name))\n",
    "            model.fit(X_train, y_train)\n",
    "            y_pred, y_prob = model.predict(X_test), model.predict_proba(X_test)[:,1]  \n",
    "            \n",
    "            row.update({'model': model_name, \n",
    "                        'roc_auc_score' : metrics.roc_auc_score(y_test, y_prob),\n",
    "                        'precision_score': metrics.precision_score(y_test, y_pred),\n",
    "                        'recall_score': metrics.recall_score(y_test, y_pred),\n",
    "                        'f1_score': metrics.f1_score(y_test, y_pred),\n",
    "                        'matthews_corrcoef': metrics.matthews_corrcoef(y_test, y_pred)})           \n",
    "            model_results = model_results.append(row, ignore_index=True)\n",
    "    \n",
    "            # Compute the confusion matrx\n",
    "            conf_matrix[model_name] = pd.crosstab(y_test, y_pred, rownames=['True'], \n",
    "                                                  colnames= ['Predicted'], margins=False)\n",
    "            fpr, tpr, thresholds = metrics.roc_curve(y_test, y_prob, \n",
    "                                                     drop_intermediate = False, pos_label = 1)\n",
    "\n",
    "            # Plot this model\n",
    "            plt.figure(1, figsize=(6, 6))\n",
    "            plt.xlabel('False positive rate')\n",
    "            plt.ylabel('True positive rate')\n",
    "            plt.title('ROC curve:')\n",
    "            plt.plot(fpr, tpr, label = model_name )\n",
    "            plt.legend(loc=2, prop={'size':11})\n",
    "        \n",
    "        plt.plot([0,1],[0,1], color = 'black')\n",
    "        return model_results, conf_matrix"
   ]
  },
  {
   "cell_type": "code",
   "execution_count": 48,
   "metadata": {},
   "outputs": [
    {
     "name": "stdout",
     "output_type": "stream",
     "text": [
      "Running LogisticRegression:\n",
      "Running RandomForestClassifier:\n",
      "Running GradientBoosting:\n"
     ]
    },
    {
     "data": {
      "image/png": "[encoded data removed]",
      "text/plain": [
       "<matplotlib.figure.Figure at 0x11081b780>"
      ]
     },
     "metadata": {},
     "output_type": "display_data"
    }
   ],
   "source": [
    "models = {\n",
    "    'LogisticRegression' : LogisticRegression(),\n",
    "    'RandomForestClassifier': RandomForestClassifier(n_estimators=10),\n",
    "    'GradientBoosting': GradientBoostingClassifier(max_depth= 6, n_estimators=100,\n",
    "                                                   max_features = 0.3),\n",
    "}\n",
    "models_report, conf_matrix = compare_classifier_models(X_train, y_train, X_test, y_test, models)"
   ]
  },
  {
   "cell_type": "code",
   "execution_count": 49,
   "metadata": {},
   "outputs": [
    {
     "data": {
      "text/html": [
       "<div>\n",
       "<style>\n",
       "    .dataframe thead tr:only-child th {\n",
       "        text-align: right;\n",
       "    }\n",
       "\n",
       "    .dataframe thead th {\n",
       "        text-align: left;\n",
       "    }\n",
       "\n",
       "    .dataframe tbody tr th {\n",
       "        vertical-align: top;\n",
       "    }\n",
       "</style>\n",
       "<table border=\"1\" class=\"dataframe\">\n",
       "  <thead>\n",
       "    <tr style=\"text-align: right;\">\n",
       "      <th></th>\n",
       "      <th>model</th>\n",
       "      <th>roc_auc_score</th>\n",
       "      <th>precision_score</th>\n",
       "      <th>recall_score</th>\n",
       "      <th>f1_score</th>\n",
       "      <th>matthews_corrcoef</th>\n",
       "    </tr>\n",
       "  </thead>\n",
       "  <tbody>\n",
       "    <tr>\n",
       "      <th>0</th>\n",
       "      <td>LogisticRegression</td>\n",
       "      <td>0.826974</td>\n",
       "      <td>0.999766</td>\n",
       "      <td>0.472631</td>\n",
       "      <td>0.641838</td>\n",
       "      <td>0.648406</td>\n",
       "    </tr>\n",
       "    <tr>\n",
       "      <th>1</th>\n",
       "      <td>RandomForestClassifier</td>\n",
       "      <td>0.823088</td>\n",
       "      <td>0.950709</td>\n",
       "      <td>0.511888</td>\n",
       "      <td>0.665469</td>\n",
       "      <td>0.654566</td>\n",
       "    </tr>\n",
       "    <tr>\n",
       "      <th>2</th>\n",
       "      <td>GradientBoosting</td>\n",
       "      <td>0.872573</td>\n",
       "      <td>0.966414</td>\n",
       "      <td>0.521840</td>\n",
       "      <td>0.677725</td>\n",
       "      <td>0.669152</td>\n",
       "    </tr>\n",
       "  </tbody>\n",
       "</table>\n",
       "</div>"
      ],
      "text/plain": [
       "                    model  roc_auc_score  precision_score  recall_score  \\\n",
       "0      LogisticRegression       0.826974         0.999766      0.472631   \n",
       "1  RandomForestClassifier       0.823088         0.950709      0.511888   \n",
       "2        GradientBoosting       0.872573         0.966414      0.521840   \n",
       "\n",
       "   f1_score  matthews_corrcoef  \n",
       "0  0.641838           0.648406  \n",
       "1  0.665469           0.654566  \n",
       "2  0.677725           0.669152  "
      ]
     },
     "execution_count": 49,
     "metadata": {},
     "output_type": "execute_result"
    }
   ],
   "source": [
    "models_report"
   ]
  },
  {
   "cell_type": "code",
   "execution_count": 53,
   "metadata": {},
   "outputs": [
    {
     "data": {
      "text/html": [
       "<div>\n",
       "<style>\n",
       "    .dataframe thead tr:only-child th {\n",
       "        text-align: right;\n",
       "    }\n",
       "\n",
       "    .dataframe thead th {\n",
       "        text-align: left;\n",
       "    }\n",
       "\n",
       "    .dataframe tbody tr th {\n",
       "        vertical-align: top;\n",
       "    }\n",
       "</style>\n",
       "<table border=\"1\" class=\"dataframe\">\n",
       "  <thead>\n",
       "    <tr style=\"text-align: right;\">\n",
       "      <th>Predicted</th>\n",
       "      <th>0</th>\n",
       "      <th>1</th>\n",
       "    </tr>\n",
       "    <tr>\n",
       "      <th>True</th>\n",
       "      <th></th>\n",
       "      <th></th>\n",
       "    </tr>\n",
       "  </thead>\n",
       "  <tbody>\n",
       "    <tr>\n",
       "      <th>0</th>\n",
       "      <td>38521</td>\n",
       "      <td>1</td>\n",
       "    </tr>\n",
       "    <tr>\n",
       "      <th>1</th>\n",
       "      <td>4769</td>\n",
       "      <td>4274</td>\n",
       "    </tr>\n",
       "  </tbody>\n",
       "</table>\n",
       "</div>"
      ],
      "text/plain": [
       "Predicted      0     1\n",
       "True                  \n",
       "0          38521     1\n",
       "1           4769  4274"
      ]
     },
     "execution_count": 53,
     "metadata": {},
     "output_type": "execute_result"
    }
   ],
   "source": [
    "conf_matrix['LogisticRegression']"
   ]
  },
  {
   "cell_type": "markdown",
   "metadata": {},
   "source": [
    "### Questions"
   ]
  },
  {
   "cell_type": "markdown",
   "metadata": {},
   "source": [
    "1) Understanding the best borrower profile for investors\n",
    "2) Look at bad vs good loan indicators--home ownership, \n",
    "4) Interst rate vs loan amount over time(year and month)\n",
    "5) Loan grade vs good loan/bad loan\n",
    "7) applicant pool quality vs interest rates? (increased risk premium to default prone accounts)?\n",
    "8) default rate vs state\n",
    "10) numer of loans issued vs type of loan issued vs default rate\n",
    "11) dti (joint vs individual) vs good/bad loans\n",
    "12) dti vs loan grade\n",
    "13) check desc: description of why the borrower needs loan\n"
   ]
  }
 ],
 "metadata": {
  "kernelspec": {
   "display_name": "Python 3",
   "language": "python",
   "name": "python3"
  },
  "language_info": {
   "codemirror_mode": {
    "name": "ipython",
    "version": 3
   },
   "file_extension": ".py",
   "mimetype": "text/x-python",
   "name": "python",
   "nbconvert_exporter": "python",
   "pygments_lexer": "ipython3",
   "version": "3.6.1"
  }
 },
 "nbformat": 4,
 "nbformat_minor": 1
}
